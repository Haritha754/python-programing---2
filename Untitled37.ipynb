{
  "nbformat": 4,
  "nbformat_minor": 0,
  "metadata": {
    "colab": {
      "provenance": []
    },
    "kernelspec": {
      "name": "python3",
      "display_name": "Python 3"
    },
    "language_info": {
      "name": "python"
    }
  },
  "cells": [
    {
      "cell_type": "markdown",
      "source": [
        "Small Large Sum\n",
        "Write a function SmallLargeSum(array) which accepts the array as an argument or\n",
        "parameter, that performs the addition of the second largest element from the\n",
        "even location with the second largest element from an odd location?\n",
        "Rules:\n",
        "All the array elements are unique.\n",
        "If the length of the array is 3 or less than 3, then return 0.\n",
        "If Array is empty then return zero.\n",
        "Sample Test Case 1:\n",
        "Input:\n",
        "6\n",
        "3 2 1 7 5 4\n",
        "Output:\n",
        "7\n",
        "Explanation: The second largest element in the even locations (3, 1, 5) is 3. The\n",
        "second largest element in the odd locations (2, 7, 4) is 4. So the addition of 3 and\n",
        "4 is 7. So the answer is 7.\n",
        "Sample Test Case 2:\n",
        "Input:\n",
        "7\n",
        "4 0 7 9 6 4 2\n",
        "Output:\n",
        "10"
      ],
      "metadata": {
        "id": "8SvRp5dB6aPc"
      }
    },
    {
      "cell_type": "code",
      "source": [
        "def SmallLargeSum(array):\n",
        "    if len(array) <= 3:\n",
        "        return 0\n",
        "\n",
        "    even_elements = sorted([array[i] for i in range(0, len(array), 2)])\n",
        "    odd_elements = sorted([array[i] for i in range(1, len(array), 2)])\n",
        "\n",
        "    if len(even_elements) < 2 or len(odd_elements) < 2:\n",
        "        return 0\n",
        "\n",
        "    return even_elements[-2] + odd_elements[-2]\n",
        "\n",
        "# Sample Test Case 1\n",
        "array1 = [3, 2, 1, 7, 5, 4]\n",
        "print(SmallLargeSum(array1))  # Output: 7\n",
        "\n",
        "# Sample Test Case 2\n",
        "array2 = [4, 0, 7, 9, 6, 4, 2]\n",
        "print(SmallLargeSum(array2))  # Output: 10"
      ],
      "metadata": {
        "colab": {
          "base_uri": "https://localhost:8080/"
        },
        "id": "Er86sXhO6jOf",
        "outputId": "30d59f81-8036-4d1e-a340-2046d7122449"
      },
      "execution_count": 1,
      "outputs": [
        {
          "output_type": "stream",
          "name": "stdout",
          "text": [
            "7\n",
            "10\n"
          ]
        }
      ]
    },
    {
      "cell_type": "markdown",
      "source": [
        "2. Check Password\n",
        "Write a function CheckPassword(str) which will accept the string as an\n",
        "argument or parameter and validates the password. It will return 1 if\n",
        "the conditions are satisfied else it’ll return 0?\n",
        "The password is valid if it satisfies the below conditions:\n",
        "It should contain at least 4 characters.\n",
        "At least 1 numeric digit should be present.\n",
        "1 Capital letter should be there.\n",
        "Password should not contain space or slash.\n",
        "The starting character should not be a number.\n",
        "Sample Test Case:\n",
        "Input:\n",
        "bB1_89\n",
        "Output:\n",
        "1"
      ],
      "metadata": {
        "id": "5pLr0bg96pnR"
      }
    },
    {
      "cell_type": "code",
      "source": [
        "def CheckPassword(password):\n",
        "    if len(password) < 4:\n",
        "        return 0\n",
        "    if password[0].isdigit():\n",
        "        return 0\n",
        "    if ' ' in password or '/' in password:\n",
        "        return 0\n",
        "\n",
        "    has_digit = False\n",
        "    has_upper"
      ],
      "metadata": {
        "id": "QpXTnd3I6vxO"
      },
      "execution_count": 2,
      "outputs": []
    },
    {
      "cell_type": "markdown",
      "source": [
        "3. Calculate Binary Operations\n",
        "Write a function CalculateBinaryOperations(str) that accepts the string\n",
        "as an argument or parameter. The string should contains the binary\n",
        "numbers with their operators OR, AND, and XOR?\n",
        "A Means the AND Operation.\n",
        "B Means the OR Operation.\n",
        "C Means the XOR Operation.\n",
        "By scanning the given string from left to right you’ve to calculate the\n",
        "string and by taking one operator at a time then return the desired\n",
        "output.\n",
        "Conditions:\n",
        "The priority of the operator is not required.\n",
        "The length of the string is always Odd.\n",
        "If the length of the string is null then return -1.\n",
        "Sample Test Case:\n",
        "Input:\n",
        "1C0C1C1A0B1\n",
        "Output:\n",
        "1"
      ],
      "metadata": {
        "id": "5_Dn6K5W61pO"
      }
    },
    {
      "cell_type": "code",
      "source": [
        "def CalculateBinaryOperations(s):\n",
        "    if not s:\n",
        "        return -1\n",
        "\n",
        "    ans = int(s[0])  # Initialize with the first character as a number\n",
        "\n",
        "    for i in range(1, len(s), 2):\n",
        "        op = s[i]\n",
        "        num = int(s[i + 1])\n",
        "\n",
        "        if op == 'A':\n",
        "            ans = ans & num\n",
        "        elif op == 'B':\n",
        "            ans = ans | num\n",
        "        elif op == 'C':\n",
        "            ans = ans ^ num\n",
        "\n",
        "    return ans\n",
        "\n",
        "# Sample Test Case\n",
        "input_str = \"1C0C1C1A0B1\"\n",
        "print(CalculateBinaryOperations(input_str))  # Output: 1\n"
      ],
      "metadata": {
        "colab": {
          "base_uri": "https://localhost:8080/"
        },
        "id": "ckT2656C67OM",
        "outputId": "bd7d4732-dbb2-4f46-da97-04006f12be03"
      },
      "execution_count": 3,
      "outputs": [
        {
          "output_type": "stream",
          "name": "stdout",
          "text": [
            "1\n"
          ]
        }
      ]
    },
    {
      "cell_type": "markdown",
      "source": [
        "4. Find Maximum In An Array\n",
        "Write a function FindMaxInArray, which will find the greatest number\n",
        "from an array with its desired index? The greatest number and its\n",
        "desired index should be printed in separate lines.\n",
        "Sample Test Case:\n",
        "Input:\n",
        "10\n",
        "15 78 96 17 20 65 14 36 18 20\n",
        "Output:\n",
        "96\n",
        "2"
      ],
      "metadata": {
        "id": "IDKLLIwW7JZZ"
      }
    },
    {
      "cell_type": "code",
      "source": [
        "def FindMaxInArray(arr):\n",
        "    if not arr:\n",
        "        return None, None\n",
        "\n",
        "    max_value = arr[0]\n",
        "    max_index = 0\n",
        "\n",
        "    for i in range(1, len(arr)):\n",
        "        if arr[i] > max_value:\n",
        "            max_value = arr[i]\n",
        "            max_index = i\n",
        "\n",
        "    return max_value, max_index\n",
        "\n",
        "# Sample Test Case\n",
        "arr = [15, 78, 96, 17, 20, 65, 14, 36, 18, 20]\n",
        "max_value, max_index = FindMaxInArray(arr)\n",
        "print(max_value)  # Output: 96\n",
        "print(max_index)  # Output: 2\n"
      ],
      "metadata": {
        "colab": {
          "base_uri": "https://localhost:8080/"
        },
        "id": "1tRu5fwy7QZO",
        "outputId": "f9a6ccac-2de1-4201-9f35-b88a1e3e66be"
      },
      "execution_count": 4,
      "outputs": [
        {
          "output_type": "stream",
          "name": "stdout",
          "text": [
            "96\n",
            "2\n"
          ]
        }
      ]
    }
  ]
}